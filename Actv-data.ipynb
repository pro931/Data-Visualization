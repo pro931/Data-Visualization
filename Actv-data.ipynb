{
  "nbformat": 4,
  "nbformat_minor": 0,
  "metadata": {
    "colab": {
      "provenance": []
    },
    "kernelspec": {
      "name": "python3",
      "display_name": "Python 3"
    },
    "language_info": {
      "name": "python"
    }
  },
  "cells": [
    {
      "cell_type": "code",
      "execution_count": 23,
      "metadata": {
        "id": "GbvH4RWfbOzo"
      },
      "outputs": [],
      "source": [
        "import requests\n",
        "from bs4 import BeautifulSoup\n",
        "import csv\n",
        "\n",
        "\n",
        "# Fetch the web page\n",
        "url = \"https://en.wikipedia.org/wiki/Climate_of_Mecca\"\n",
        "response = requests.get(url)\n",
        "\n",
        "# Parse the HTML content using Beautiful Soup\n",
        "soup = BeautifulSoup(response.content, 'html.parser')\n",
        "\n",
        "# Find the first table element on the page\n",
        "table = soup.find('table', class_=\"wikitable\")\n",
        "data = []\n",
        "\n",
        "for row in table.find_all(\"tr\")[1:12]:\n",
        "  cols=[col.get_text(strip=True)for col in row.find_all(['th','td'])]\n",
        "  data.append(cols)\n",
        "\n",
        ""
      ]
    },
    {
      "cell_type": "code",
      "source": [
        "import pandas as pd\n",
        "df=pd.DataFrame(data)\n",
        "df.to_csv(\"data.csv\",index=False,header=False)\n"
      ],
      "metadata": {
        "id": "oMn28ys8fFUE"
      },
      "execution_count": 24,
      "outputs": []
    },
    {
      "cell_type": "code",
      "source": [],
      "metadata": {
        "id": "MBmt7OJgfS0g"
      },
      "execution_count": 24,
      "outputs": []
    },
    {
      "cell_type": "code",
      "source": [
        "#csv->json"
      ],
      "metadata": {
        "id": "GVutHuSZfbUT"
      },
      "execution_count": 25,
      "outputs": []
    },
    {
      "cell_type": "code",
      "source": [
        "\n",
        "import csv\n",
        "import json\n",
        "\n",
        "csv_file = 'data.csv'\n",
        "json_file = 'data.json'\n",
        "\n",
        "# Read the CSV file\n",
        "with open(csv_file, 'r') as f:\n",
        "    reader = csv.DictReader(f)\n",
        "    rows = list(reader)\n",
        "\n",
        "# Write the JSON file\n",
        "with open(json_file, 'w') as f:\n",
        "    json.dump(rows, f)"
      ],
      "metadata": {
        "id": "UfBPe3-UhSys"
      },
      "execution_count": 26,
      "outputs": []
    },
    {
      "cell_type": "code",
      "source": [
        "#xml"
      ],
      "metadata": {
        "id": "pmB5XUYKhpXx"
      },
      "execution_count": 27,
      "outputs": []
    },
    {
      "cell_type": "code",
      "source": [
        "import csv\n",
        "import xml.etree.ElementTree as ET\n",
        "\n",
        "csv_file = 'data.csv'\n",
        "xml_file = 'data.xml'\n",
        "\n",
        "# Create the root element\n",
        "root = ET.Element('data')\n",
        "\n",
        "# Read the CSV file and add rows as child elements to the root element\n",
        "with open(csv_file, 'r') as f:\n",
        "    reader = csv.DictReader(f)\n",
        "    for row in reader:\n",
        "        elem = ET.SubElement(root, 'row')\n",
        "        for key, val in row.items():\n",
        "            child = ET.SubElement(elem, key)\n",
        "            child.text = val\n",
        "\n",
        "# Write the XML file\n",
        "tree = ET.ElementTree(root)\n",
        "tree.write(xml_file)"
      ],
      "metadata": {
        "id": "C8FdAaVdh9_k"
      },
      "execution_count": 28,
      "outputs": []
    },
    {
      "cell_type": "code",
      "source": [],
      "metadata": {
        "id": "-6GhOUwJicqz"
      },
      "execution_count": 28,
      "outputs": []
    },
    {
      "cell_type": "code",
      "source": [],
      "metadata": {
        "id": "R745hX9bictp"
      },
      "execution_count": 28,
      "outputs": []
    },
    {
      "cell_type": "code",
      "source": [],
      "metadata": {
        "id": "tJ_40sEOicwM"
      },
      "execution_count": 28,
      "outputs": []
    },
    {
      "cell_type": "code",
      "source": [],
      "metadata": {
        "id": "I4TBlTZ-icyz"
      },
      "execution_count": 28,
      "outputs": []
    },
    {
      "cell_type": "code",
      "source": [],
      "metadata": {
        "id": "n3hMNP2Uic1V"
      },
      "execution_count": 28,
      "outputs": []
    },
    {
      "cell_type": "code",
      "source": [],
      "metadata": {
        "id": "zMdKjL4Yic3v"
      },
      "execution_count": 28,
      "outputs": []
    },
    {
      "cell_type": "code",
      "source": [],
      "metadata": {
        "id": "45GB6GItic6K"
      },
      "execution_count": 28,
      "outputs": []
    },
    {
      "cell_type": "code",
      "source": [],
      "metadata": {
        "id": "CP1ZL8Emic9I"
      },
      "execution_count": 28,
      "outputs": []
    },
    {
      "cell_type": "code",
      "source": [],
      "metadata": {
        "id": "I0gcO8ftic_Y"
      },
      "execution_count": 28,
      "outputs": []
    },
    {
      "cell_type": "code",
      "source": [],
      "metadata": {
        "id": "So-T5wKQidB2"
      },
      "execution_count": 28,
      "outputs": []
    },
    {
      "cell_type": "code",
      "source": [],
      "metadata": {
        "id": "uNbJO2QkidFU"
      },
      "execution_count": 28,
      "outputs": []
    },
    {
      "cell_type": "code",
      "source": [],
      "metadata": {
        "id": "WNkcI8i6fbdo"
      },
      "execution_count": 29,
      "outputs": []
    }
  ]
}